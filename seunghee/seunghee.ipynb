{
 "cells": [
  {
   "attachments": {},
   "cell_type": "markdown",
   "metadata": {},
   "source": [
    "# 백준 - 10250번 ACM 호텔"
   ]
  },
  {
   "cell_type": "code",
   "execution_count": null,
   "metadata": {},
   "outputs": [],
   "source": [
    "'''\n",
    "30,50,72\n",
    "2 2 3\n",
    "3, 1, 3\n",
    "'''\n",
    "N = int(input())\n",
    "\n",
    "for _ in range(N):\n",
    "    H, W, P = map(int, input().split())\n",
    "    dp = [0 for _ in range(H+1)]\n",
    "    for x in range(1, P+1):\n",
    "        if H > x : # 꼭대기층아님\n",
    "          dp[x%H] += 1\n",
    "        elif H == x: # 꼭대기층임\n",
    "          dp[H] += 1\n",
    "        else: #  H < x:\n",
    "          dp[H%x] += 1\n",
    "          \n",
    "    floor = P%H if H > P else H\n",
    "    room  = dp[floor]\n",
    "\n",
    "    print(floor, room)"
   ]
  }
 ],
 "metadata": {
  "language_info": {
   "name": "python"
  },
  "orig_nbformat": 4
 },
 "nbformat": 4,
 "nbformat_minor": 2
}
