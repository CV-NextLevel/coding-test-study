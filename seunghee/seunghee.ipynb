{
 "cells": [
  {
   "attachments": {},
   "cell_type": "markdown",
   "metadata": {},
   "source": [
    "# 백준 - 10250번 ACM 호텔(23.03.20)"
   ]
  },
  {
   "cell_type": "code",
   "execution_count": null,
   "metadata": {},
   "outputs": [],
   "source": [
    "'''\n",
    "30,50,72\n",
    "2 2 3\n",
    "3, 1, 3\n",
    "'''\n",
    "N = int(input())\n",
    "\n",
    "for _ in range(N):\n",
    "    H, W, P = map(int, input().split())\n",
    "    dp = [0 for _ in range(H+1)]\n",
    "    for x in range(1, P+1):\n",
    "        if H > x : # 꼭대기층아님\n",
    "          dp[x%H] += 1\n",
    "        elif H == x: # 꼭대기층임\n",
    "          dp[H] += 1\n",
    "        else: #  H < x:\n",
    "          dp[H%x] += 1\n",
    "          \n",
    "    floor = P%H if H > P else H\n",
    "    room  = dp[floor]\n",
    "\n",
    "    print(floor, room)"
   ]
  },
  {
   "attachments": {},
   "cell_type": "markdown",
   "metadata": {},
   "source": [
    "## 프로그래머스 - 미로탈출(23.03.24)"
   ]
  },
  {
   "cell_type": "code",
   "execution_count": null,
   "metadata": {},
   "outputs": [],
   "source": [
    "# try1\n",
    "from collections import deque\n",
    "def solution(maps):\n",
    "    map = [list(m) for m in maps]\n",
    "    graph = [[0 for _ in range(len(map))] for _ in range(len(map))]\n",
    "    dx = [0,0,-1,1]\n",
    "    dy = [-1,1,0,0]# 상하좌우\n",
    "\n",
    "    ## S좌표 부터 스타트\n",
    "    # S의 좌표\n",
    "    S_idx = [(i, lst.index('S')) for i, lst in enumerate(map) if 'S' in lst]\n",
    "    queue = deque()\n",
    "    x, y = S_idx[0][0], S_idx[0][1]\n",
    "    queue.append((x, y))# queue에 S의 좌표 입력\n",
    "    return queue[0]\n",
    "\n",
    "    while queue: # 큐가 빌때까지 반복\n",
    "        x, y = queue.popleft()\n",
    "        # 현위치에서 상하좌우 확인\n",
    "        for i in range(4):\n",
    "            nx = x + dx[i] #상하좌우 방향 정의임-> 방향이 반복해서 쓰이므로 따로 정의함\n",
    "            ny = y + dy[i]\n",
    "        # 공간외 일 경우 -> 무시\n",
    "        if nx < 0 or nx >= n or ny <0 or ny >= m:\n",
    "            continue # 해당 경우 일때 아래 코드 실행안함\n",
    "        # 해당 노드가 벽일 경우(벽 = 0)\n",
    "        if graph[nx][ny] == 'X':\n",
    "            continue # 해당 경우 일때 아래 코드 실행안함\n",
    "        if graph[nx][ny] == 'O': # 통로 일때\n",
    "            graph[nx][ny] = graph[x][y] + 1 # 이동된 노드에 값 변경(거리값으로)\n",
    "            queue.append((nx,ny)) # 이동된 노드값 append\n",
    "        return graph\n",
    "        \n"
   ]
  },
  {
   "cell_type": "code",
   "execution_count": 93,
   "metadata": {},
   "outputs": [
    {
     "data": {
      "text/plain": [
       "5"
      ]
     },
     "execution_count": 93,
     "metadata": {},
     "output_type": "execute_result"
    }
   ],
   "source": [
    "# try2 - 테스트는 맞으나 정확성 떨어짐\n",
    "from collections import deque\n",
    "def solution(maps):\n",
    "#     global maze, start, lever, end\n",
    "    map = [list(m) for m in maps]\n",
    "    n = len(map)\n",
    "    m = len(map[0])\n",
    "\n",
    "    for i, lst in enumerate(map):\n",
    "        if 'S' in lst:\n",
    "            start = (i, lst.index('S'))\n",
    "        if 'L' in lst:\n",
    "            lever = (i, lst.index('L'))\n",
    "        if 'E' in lst:\n",
    "            end = (i, lst.index('E'))\n",
    "\n",
    "    dx = [-1, 1, 0, 0]\n",
    "    dy = [0, 0, -1, 1]\n",
    "\n",
    "    def bfs(start, end):\n",
    "        maze = [[0 for _ in range(m)] for _ in range(n)]\n",
    "        for i in range(n):\n",
    "            for j in range(m):\n",
    "                if map[i][j] != 'X':\n",
    "                    maze[i][j] = 1\n",
    "        s_x, s_y = start\n",
    "        e_x, e_y = end\n",
    "        queue = deque()\n",
    "        queue.append((s_x, s_y))\n",
    "\n",
    "        while queue:\n",
    "            x, y = queue.popleft()\n",
    "\n",
    "            for i in range(4):\n",
    "                nx, ny = x + dx[i], y + dy[i]\n",
    "                # print(nx, ny)\n",
    "\n",
    "                if nx < 0 or ny < 0 or nx >= n or ny >= m:\n",
    "                    # print('범위밖')\n",
    "                    continue\n",
    "\n",
    "                if maze[nx][ny] == 0: # X일경우\n",
    "                    # print('길없음')\n",
    "                    continue\n",
    "\n",
    "                if maze[nx][ny] == 1: #start, lever, end일경우\n",
    "                    maze[nx][ny] = maze[x][y] + 1\n",
    "                    # print('업데이트')\n",
    "                    queue.append((nx, ny))\n",
    "        # print(maze)\n",
    "        return maze[e_x][e_y]-1 if maze[e_x][e_y] != 1 else -1\n",
    "    \n",
    "    result1 = bfs(start, lever)\n",
    "    result2 = bfs(lever, end)\n",
    "    return -1 if result1 == -1 or result2 == -1 else result1+result2\n",
    "# return maze[end[0][0]][end[0][1]]\n",
    "\n",
    "# maps = [\"SOOOL\",\"XXXXO\",\"OOOOO\",\"OXXXX\",\"OOOOE\"]\n",
    "maps = [\"LOOXS\",\"OOOOX\",\"OOOOO\",\"OOOOO\",\"EOOOO\"]\n",
    "maps = [\"SOOOL\", \"OOOOE\"]\n",
    "solution(maps)"
   ]
  },
  {
   "cell_type": "code",
   "execution_count": null,
   "metadata": {},
   "outputs": [],
   "source": []
  },
  {
   "cell_type": "code",
   "execution_count": null,
   "metadata": {},
   "outputs": [],
   "source": []
  }
 ],
 "metadata": {
  "kernelspec": {
   "display_name": "pytorchkernel",
   "language": "python",
   "name": "pytorch"
  },
  "language_info": {
   "codemirror_mode": {
    "name": "ipython",
    "version": 3
   },
   "file_extension": ".py",
   "mimetype": "text/x-python",
   "name": "python",
   "nbconvert_exporter": "python",
   "pygments_lexer": "ipython3",
   "version": "3.8.16"
  },
  "orig_nbformat": 4
 },
 "nbformat": 4,
 "nbformat_minor": 2
}
